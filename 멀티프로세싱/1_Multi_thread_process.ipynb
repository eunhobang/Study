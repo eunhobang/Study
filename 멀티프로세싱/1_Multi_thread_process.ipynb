{
 "cells": [
  {
   "cell_type": "markdown",
   "id": "3461b29a",
   "metadata": {},
   "source": [
    "# 1. threading 모듈로 쓰레드 구현하기"
   ]
  },
  {
   "cell_type": "code",
   "execution_count": 1,
   "id": "64e5f7b2",
   "metadata": {},
   "outputs": [],
   "source": [
    "from threading import Thread\n",
    "import time"
   ]
  },
  {
   "cell_type": "markdown",
   "id": "885172bd",
   "metadata": {},
   "source": [
    "### 1) Thread 구현"
   ]
  },
  {
   "cell_type": "code",
   "execution_count": 2,
   "id": "151d6f05",
   "metadata": {},
   "outputs": [
    {
     "name": "stdout",
     "output_type": "stream",
     "text": [
      "Rsult: 4999999950000000\n",
      "소요 시간:  4.93511700630188\n"
     ]
    }
   ],
   "source": [
    "\n",
    "def work(id, start, end, result):\n",
    "    total = 0\n",
    "    for i in range(start, end):\n",
    "        total+=i\n",
    "    result.append(total)\n",
    "    \n",
    "if __name__=='__main__':\n",
    "    START, END = 0, 100000000\n",
    "    result = list()\n",
    "\n",
    "    start_time = time.time()\n",
    "\n",
    "    th1 = Thread(target=work, args=(1,START,END, result))\n",
    "\n",
    "    th1.start() # 쓰레드 시작\n",
    "    th1.join() # 쓰레드가 끝날 때까지 기다림\n",
    "\n",
    "    end_time = time.time()\n",
    "\n",
    "\n",
    "print(f\"Rsult: {sum(result)}\")\n",
    "print(\"소요 시간: \", end_time - start_time)"
   ]
  },
  {
   "cell_type": "markdown",
   "id": "fb5654eb",
   "metadata": {},
   "source": [
    "### 2) Multi Thread 구현"
   ]
  },
  {
   "cell_type": "code",
   "execution_count": 7,
   "id": "34bbecf2",
   "metadata": {},
   "outputs": [
    {
     "name": "stdout",
     "output_type": "stream",
     "text": [
      "Rsult: 4999999950000000\n",
      "소요 시간:  5.2463059425354\n"
     ]
    }
   ],
   "source": [
    "def work(id, start, end, result):\n",
    "    total = 0\n",
    "    for i in range(start, end):\n",
    "        total+=i\n",
    "    result.append(total)\n",
    "    \n",
    "if __name__=='__main__':\n",
    "    START, END = 0, 100000000\n",
    "    result = list()\n",
    "\n",
    "    start_time = time.time()\n",
    "\n",
    "    th1 = Thread(target=work, args=(1,START,END//2, result))\n",
    "    th2 = Thread(target=work, args=(2,END//2,END, result))\n",
    "\n",
    "    th1.start() # 쓰레드 시작\n",
    "    th2.start()\n",
    "    th1.join() # 쓰레드가 끝날 때까지 기다림\n",
    "    th2.join()\n",
    "\n",
    "    end_time = time.time()\n",
    "\n",
    "\n",
    "print(f\"Rsult: {sum(result)}\")\n",
    "print(\"소요 시간: \", end_time - start_time)"
   ]
  },
  {
   "cell_type": "markdown",
   "id": "01cf1b8b",
   "metadata": {},
   "source": [
    "## 1,2 번 비교\n",
    "\n",
    "- 2번이 멀티쓰레드를 사용함에도 불구하고 시간이 더 걸림\n",
    "    - 이유: 파이썬의 GIL 정책 때문임."
   ]
  },
  {
   "cell_type": "markdown",
   "id": "0608ef7d",
   "metadata": {},
   "source": [
    "## GIL(Global Interpreter Lock)\n",
    "\n",
    "언어에서 자원을 보호하기 위해 락(lock) 정책을 사용한다.\n",
    "\n",
    "파이썬에서는 하나의 프로세스 안에 모든 자원의 락을 글로벌하게 관리함으로써 하나의 쓰레드만 자원을 컨트롤하여 동작하도록 한다.\n",
    "\n",
    "위 코드에서 result라는 자원을 공유하는 두 개의 쓰레드를 동시에 실행시키지만, 결국 GIL 때문에 한 번에 하나의 쓰레드만 계산을 실행하여 실행시간이 비슷한 것이다.\n",
    "\n",
    "GIL 덕분에 자원관리(ex.가비지 컬렉팅)를 더 쉽게 구현할 수 있었지만, 지금처럼 멀티 코어가 당연한 시대에서는 조금 아쉬운 것이 사실이다.\n",
    "\n",
    "그렇다고 파이썬 쓰레드가 쓸모 없는 것은 아니다.\n",
    "GIL이 적용되는 것은 cpu 동작에서이고 쓰레드가 cpu 동작을 마치고 I/O 작업을 실행하는 동안에는 다른 쓰레드가 cpu 동작을 동시에 실행할 수 있다. 따라서 cpu 동작이 많지 않고 I/O동작이 더 많은 프로그램에서는 멀티 쓰레드만으로 성능적으로 큰 효과를 얻을 수 있다."
   ]
  },
  {
   "cell_type": "markdown",
   "id": "ca711170",
   "metadata": {},
   "source": [
    "### 이러한 상황에서 계산을 병렬처리하는데 도움을 주는 것이 바로 multiprocessing 모듈이다."
   ]
  },
  {
   "cell_type": "markdown",
   "id": "1b62b843",
   "metadata": {},
   "source": [
    "# 2. mutiprocessing 모듈로 멀티 프로세스 구현하기"
   ]
  },
  {
   "cell_type": "code",
   "execution_count": 5,
   "id": "e2627b8f",
   "metadata": {},
   "outputs": [],
   "source": [
    "from multiprocessing import Process, Queue"
   ]
  },
  {
   "cell_type": "code",
   "execution_count": 10,
   "id": "d482497f",
   "metadata": {},
   "outputs": [
    {
     "name": "stdout",
     "output_type": "stream",
     "text": [
      "Result: 0\n",
      "소요시간:  0.1139984130859375\n"
     ]
    }
   ],
   "source": [
    "def work(id, start, end, result):\n",
    "    total = 0\n",
    "    for i in range(start, end):\n",
    "        total+=i\n",
    "    result.put(total)\n",
    "    \n",
    "if __name__ == \"__main__\":\n",
    "    START, END = 0, 10000000\n",
    "    result = Queue()\n",
    "    \n",
    "    start_time = time.time()\n",
    "    \n",
    "    th1 = Process(target=work, args=(1, START, END//2, result))\n",
    "    th2 = Process(target=work, args=(2, END//2, END, result))\n",
    "    \n",
    "    th1.start()\n",
    "    th2.start()\n",
    "    th1.join()\n",
    "    th2.join()\n",
    "    \n",
    "    end_time = time.time()\n",
    "    \n",
    "    result.put('STOP')\n",
    "    total = 0\n",
    "    while True:\n",
    "        tmp = result.get()\n",
    "        if tmp == 'STOP':\n",
    "            break\n",
    "        else:\n",
    "            total += tmp\n",
    "    print(f\"Result: {total}\")\n",
    "\n",
    "print(\"소요시간: \", end_time-start_time)"
   ]
  },
  {
   "cell_type": "markdown",
   "id": "b59a0541",
   "metadata": {},
   "source": [
    "# Thread vs Process\n",
    "\n",
    "결론적으로 파이썬에서 병렬처리를 구현하는 방식은 두 가지로 멀티 쓰레드와 멀티 프로레스가 있다.\n",
    "\n",
    "### Thread\n",
    "쓰레드는 가볍지만 GIL로 인해 계산 처리하는 작업은 한 번에 하나의 쓰레드에서만 작동하여 cpu 작업이 적고 I/O 작업이 많은 병쳘처리 프로그램에서 효과를 볼 수 있다.\n",
    "\n",
    "### Process\n",
    "프로세스는 각자 고유한 메모리 영역을 가지기 때문에 더 많은 메모리를 필요로 하디만, 각각 프로세스에서 병렬로 cpu 작업을 할 수 있고 이를 이용해 여러 머신에서 동작하는 분산 처리 프로그래밍도 구현할 수 있다"
   ]
  }
 ],
 "metadata": {
  "kernelspec": {
   "display_name": "Python 3",
   "language": "python",
   "name": "python3"
  },
  "language_info": {
   "codemirror_mode": {
    "name": "ipython",
    "version": 3
   },
   "file_extension": ".py",
   "mimetype": "text/x-python",
   "name": "python",
   "nbconvert_exporter": "python",
   "pygments_lexer": "ipython3",
   "version": "3.8.8"
  }
 },
 "nbformat": 4,
 "nbformat_minor": 5
}
